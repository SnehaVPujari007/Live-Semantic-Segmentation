{
 "cells": [
  {
   "cell_type": "code",
   "execution_count": 10,
   "metadata": {},
   "outputs": [],
   "source": [
    "import cv2\n",
    "import numpy as np\n",
    "import os"
   ]
  },
  {
   "cell_type": "code",
   "execution_count": 11,
   "metadata": {},
   "outputs": [],
   "source": [
    "cap = cv2.VideoCapture(0)\n",
    "\n",
    "if not cap.isOpened():\n",
    "    print(\"Error: Could not access the webcam.\")\n",
    "    exit()"
   ]
  },
  {
   "cell_type": "code",
   "execution_count": 12,
   "metadata": {},
   "outputs": [],
   "source": [
    "output_dir = \"captured_images\"\n",
    "os.makedirs(output_dir, exist_ok=True)  "
   ]
  },
  {
   "cell_type": "code",
   "execution_count": 13,
   "metadata": {},
   "outputs": [
    {
     "name": "stdout",
     "output_type": "stream",
     "text": [
      "Image saved: captured_images\\captured_0000.jpg\n"
     ]
    }
   ],
   "source": [
    "k = 3  \n",
    "image_counter = 0\n",
    "\n",
    "while True:\n",
    "    ret, frame = cap.read()\n",
    "    if not ret:\n",
    "        print(\"Error: Could not read frame from webcam.\")\n",
    "        break\n",
    "    resized_frame = cv2.resize(frame, (320, 240))\n",
    "    pixel_values = resized_frame.reshape((-1, 3))\n",
    "    pixel_values = np.float32(pixel_values)\n",
    "    criteria = (cv2.TERM_CRITERIA_EPS + cv2.TERM_CRITERIA_MAX_ITER, 100, 0.2)\n",
    "    _, labels, centers = cv2.kmeans(pixel_values, k, None, criteria, 10, cv2.KMEANS_RANDOM_CENTERS)\n",
    "    centers = np.uint8(centers)\n",
    "    segmented_image = centers[labels.flatten()]\n",
    "    segmented_image = segmented_image.reshape(resized_frame.shape)\n",
    "    color_segmented_frame = cv2.resize(segmented_image, (frame.shape[1], frame.shape[0]))\n",
    "    blended_frame = cv2.addWeighted(frame, 0.6, color_segmented_frame, 0.4, 0)\n",
    "    cv2.imshow(\"Live Color Segmentation\", blended_frame)\n",
    "    key = cv2.waitKey(1) & 0xFF\n",
    "\n",
    "    # Capture and save the image when 'c' is pressed\n",
    "    if key == ord('c'):\n",
    "        image_filename = os.path.join(output_dir, f\"captured_{image_counter:04d}.jpg\")\n",
    "        cv2.imwrite(image_filename, blended_frame)\n",
    "        print(f\"Image saved: {image_filename}\")\n",
    "        image_counter += 1\n",
    "\n",
    "    # Exit the loop when 'q' is pressed\n",
    "    if key == ord('q'):\n",
    "        break\n",
    "\n"
   ]
  },
  {
   "cell_type": "code",
   "execution_count": 16,
   "metadata": {},
   "outputs": [
    {
     "name": "stdout",
     "output_type": "stream",
     "text": [
      "All captured images are saved in the folder: captured_images\n"
     ]
    }
   ],
   "source": [
    "cap.release()\n",
    "cv2.destroyAllWindows()\n",
    "\n",
    "print(f\"All captured images are saved in the folder: {output_dir}\")"
   ]
  }
 ],
 "metadata": {
  "kernelspec": {
   "display_name": "base",
   "language": "python",
   "name": "python3"
  },
  "language_info": {
   "codemirror_mode": {
    "name": "ipython",
    "version": 3
   },
   "file_extension": ".py",
   "mimetype": "text/x-python",
   "name": "python",
   "nbconvert_exporter": "python",
   "pygments_lexer": "ipython3",
   "version": "3.12.7"
  },
  "orig_nbformat": 4
 },
 "nbformat": 4,
 "nbformat_minor": 2
}
